{
 "cells": [
  {
   "cell_type": "markdown",
   "id": "eb9e36d9",
   "metadata": {},
   "source": [
    "## Exploratory Data Analysis\n",
    "Exploratory Data Analysis is a crucial step in understanding our dataset and making informed decisions about feature engineering, model selection, and more.\n",
    "\n",
    "### Objective\n",
    "- Include creating Visualisations, provide as much graphs as possible, and also provide conclusions after each process.\n",
    "- Identify patterns among the data.\n",
    "- suggest what feature engineering can be done."
   ]
  },
  {
   "cell_type": "code",
   "execution_count": null,
   "id": "e66bde05",
   "metadata": {},
   "outputs": [],
   "source": [
    "#importing important libraries for Exploratory data analysis\n",
    "\n",
    "import pandas as pd\n",
    "import matplotlib.pyplot as plt\n",
    "import numpy as np\n",
    "import seaborn as sns"
   ]
  },
  {
   "cell_type": "code",
   "execution_count": null,
   "id": "1be870b1",
   "metadata": {},
   "outputs": [],
   "source": [
    "#reading data and saving the data as a pandas dataframe\n",
    "df = pd.read_csv('gujarat_aqi.csv')"
   ]
  },
  {
   "cell_type": "code",
   "execution_count": null,
   "id": "948f0a77",
   "metadata": {},
   "outputs": [],
   "source": [
    "#printing basic information about data\n",
    "df.info()\n",
    "df.head()"
   ]
  },
  {
   "cell_type": "markdown",
   "id": "6b676536",
   "metadata": {},
   "source": [
    "as we can notice here, there is some missing data in the NO2 and SO2 columns, so we will have to deal with that during data preprccsesing, for now i will remove those rows as 7 rows is statically insignificant."
   ]
  },
  {
   "cell_type": "code",
   "execution_count": null,
   "id": "05972ac8",
   "metadata": {},
   "outputs": [],
   "source": [
    "df = df.dropna(subset=['NO2', 'SO2'])"
   ]
  },
  {
   "cell_type": "markdown",
   "id": "71f71398",
   "metadata": {},
   "source": [
    "here we can see that this column as only one unique element inside it, that being 'Gujarat', this was obvious as the data is that of Gujarat. Well have to remove this coumn as this will serve no function in the model."
   ]
  },
  {
   "cell_type": "markdown",
   "id": "53c79276",
   "metadata": {},
   "source": [
    "the SPM coummn is also filled with all empty data, perhaps it wasnt avalaible, we will also have to remove this column."
   ]
  },
  {
   "cell_type": "markdown",
   "id": "16336f82",
   "metadata": {},
   "source": [
    "here are some graphs plotted to help visualize the given data :-"
   ]
  },
  {
   "cell_type": "code",
   "execution_count": null,
   "id": "910d3299",
   "metadata": {},
   "outputs": [],
   "source": [
    "sns.scatterplot(x='NO2',\n",
    "                y='SO2',\n",
    "                data=df.sample(n = 1935 , random_state = 0),\n",
    "                color = ['red' if x == 'Industrial Area' else 'blue' for x in df.sample(n = 1935 , random_state=0)['Type of Location']],\n",
    "                marker='o',\n",
    "                s = 20,\n",
    "                label='NO2 vs. SO2'\n",
    "                )\n",
    "plt.xlabel('NO2')\n",
    "plt.ylabel('SO2')\n",
    "plt.title('Scatter Plot: NO2 vs. SO2')\n",
    "plt.legend()\n",
    "plt.grid(True)\n",
    "plt.show()"
   ]
  },
  {
   "cell_type": "markdown",
   "id": "f0aea518",
   "metadata": {},
   "source": [
    "the conclusions derived from the following graph - here we cna clearly see that Rural and resential areas have lower levels of NO2 and SO2, both of which are gasses assosicated with pollution and chemical processes. with such data, clustering would be possible as they seem to form a visible cluster, which makes models like k-means and HDBSCAN clustering viable models for our project."
   ]
  },
  {
   "cell_type": "code",
   "execution_count": null,
   "id": "e2591b5d",
   "metadata": {},
   "outputs": [],
   "source": [
    "sns.scatterplot(x='SO2', y='RSPM/PM10', data=df, color = ['red' if x == 'Industrial Area' else 'blue' for x in df.sample(n = 1935 , random_state=0)['Type of Location']], marker='o',s = 20, label='SO2 vs. RSPM/PM10')\n",
    "plt.xlabel('SO2')\n",
    "plt.ylabel('RSPM/PM10')\n",
    "plt.title('Scatter Plot: SO2 vs. RSPM/PM10')\n",
    "plt.legend()\n",
    "plt.grid(True)\n",
    "plt.show()\n",
    "\n",
    "sns.scatterplot(x='NO2', y='RSPM/PM10', data=df, color = ['red' if x == 'Industrial Area' else 'blue' for x in df.sample(n = 1935 , random_state=0)['Type of Location']], marker='o',s = 20, label='NO2 vs. RSPM/PM10')\n",
    "plt.xlabel('NO2')\n",
    "plt.ylabel('RSPM/PM10')\n",
    "plt.title('Scatter Plot: NO2 vs. RSPM/PM10')\n",
    "plt.legend()\n",
    "plt.grid(True)\n",
    "plt.show()\n",
    "\n",
    "\n",
    "selected_columns = ['SO2', 'NO2', 'RSPM/PM10']\n",
    "correlation_matrix = df[selected_columns].corr()\n",
    "\n",
    "plt.figure(figsize=(4, 3))\n",
    "sns.heatmap(correlation_matrix, annot=True, cmap='coolwarm', fmt=\".2f\", linewidths=0.5)\n",
    "plt.title(\"Correlation Matrix\")\n",
    "plt.show()"
   ]
  },
  {
   "cell_type": "markdown",
   "id": "47e9f3d5",
   "metadata": {},
   "source": [
    "the conclusions derived from the above two graphs is as follows - they show a positive co-relation between the three polutants, which makes sense as areas with high pollution of SO2 are also the most likely to have gasses like NO2 there. the corelation matrix also clearly shows us that there is a pretty strong co-relarion between the three polutants."
   ]
  },
  {
   "cell_type": "code",
   "execution_count": null,
   "id": "e9b07016",
   "metadata": {},
   "outputs": [],
   "source": [
    "custom_colors = {\n",
    "    'Ahmedabad': 'red',\n",
    "    'Ankleshwar': 'blue',\n",
    "    'Jamnagar': 'green',\n",
    "    'Rajkot': 'orange',\n",
    "    'Surat': 'purple',\n",
    "    'Vadodara': 'pink',\n",
    "    'Vapi': 'brown'\n",
    "}\n",
    "\n",
    "colors = [custom_colors[val] for val in df.sample(n=1000, random_state = 0)['City/Town/Village/Area']]\n",
    "\n",
    "sns.scatterplot(x='NO2',\n",
    "                y='SO2',\n",
    "                data=df.sample(n=1000, random_state = 0),\n",
    "                color = colors,\n",
    "                marker='o',\n",
    "                s = 15,\n",
    "                label='NO2 vs. SO2'\n",
    "                )\n",
    "plt.xlabel('NO2')\n",
    "plt.ylabel('SO2')\n",
    "plt.title('Scatter Plot: NO2 vs. SO2')\n",
    "plt.grid(True)\n",
    "plt.show()"
   ]
  },
  {
   "cell_type": "markdown",
   "id": "6362abbe",
   "metadata": {},
   "source": [
    "the conclusions derived from the above graph is :- this graph shows the no2 and so2 levels from diffrent cities. that the data indicates that there is equal balance among most cities."
   ]
  },
  {
   "cell_type": "code",
   "execution_count": null,
   "id": "c627e720",
   "metadata": {},
   "outputs": [],
   "source": [
    "# inorder to perform Time Series analysis, I've split the date column into three columns, namely 'Day', 'Month', 'Year'\n",
    "df[['Day', 'Month', 'Year']] = df['Sampling Date'].str.split('/', expand=True)\n",
    "\n",
    "# Converting the columns to integers as they will be 'objects' by default and that slows down the computation a bit\n",
    "df['Day'] = df['Day'].astype(int)\n",
    "df['Month'] = df['Month'].astype(int)\n",
    "df = df.drop(columns = 'Year')"
   ]
  },
  {
   "cell_type": "code",
   "execution_count": null,
   "id": "ffab5880",
   "metadata": {},
   "outputs": [],
   "source": [
    "sns.scatterplot(x='Month', y='RSPM/PM10', data=df, color='b', marker='o',s = 20, label='Month vs. RSPM/PM10')\n",
    "plt.xlabel('Month')\n",
    "plt.ylabel('RSPM/PM10')\n",
    "plt.title('Scatter Plot: Month vs. RSPM/PM10')\n",
    "plt.legend()\n",
    "plt.grid(True)\n",
    "plt.show()\n",
    "\n",
    "sns.scatterplot(x='Month', y='NO2', data=df, color='b', marker='o',s = 20, label='Month vs. NO2')\n",
    "plt.xlabel('Month')\n",
    "plt.ylabel('NO2')\n",
    "plt.title('Scatter Plot: Month vs. NO2')\n",
    "plt.legend()\n",
    "plt.grid(True)\n",
    "plt.show()\n",
    "\n",
    "sns.scatterplot(x='Month', y='SO2', data=df, color='b', marker='o',s = 20, label='Month vs. SO2')\n",
    "plt.xlabel('Month')\n",
    "plt.ylabel('SO2')\n",
    "plt.title('Scatter Plot: Month vs. SO2')\n",
    "plt.legend()\n",
    "plt.grid(True)\n",
    "plt.show()"
   ]
  },
  {
   "cell_type": "markdown",
   "id": "21ca4a98",
   "metadata": {},
   "source": [
    "The following graphs show how the different pollutants change with different months, we can see a sort of zig-zag pattern with a high in SO2 and NO2 during the months of summer. However the patterns aren't very prominent soo its not possible to conclude anything with certainty"
   ]
  },
  {
   "cell_type": "code",
   "execution_count": null,
   "id": "bf55d919",
   "metadata": {},
   "outputs": [],
   "source": [
    "sns.scatterplot(x='Day', y='RSPM/PM10', data=df, color='b', marker='o',s = 20, label='days vs. RSPM/PM10')\n",
    "plt.xlabel('Day')\n",
    "plt.ylabel('RSPM/PM10')\n",
    "plt.title('Scatter Plot: Days vs. RSPM/PM10')\n",
    "plt.legend()\n",
    "plt.grid(True)\n",
    "plt.show()\n",
    "\n",
    "sns.scatterplot(x='Day', y='NO2', data=df, color='b', marker='o',s = 20, label='Days vs. NO2')\n",
    "plt.xlabel('Day')\n",
    "plt.ylabel('NO2')\n",
    "plt.title('Scatter Plot: Days vs. NO2')\n",
    "plt.legend()\n",
    "plt.grid(True)\n",
    "plt.show()\n",
    "\n",
    "sns.scatterplot(x='Day', y='SO2', data=df, color='b', marker='o',s = 20, label='Days vs. SO2')\n",
    "plt.xlabel('Day')\n",
    "plt.ylabel('SO2')\n",
    "plt.title('Scatter Plot: Days vs. SO2')\n",
    "plt.legend()\n",
    "plt.grid(True)\n",
    "plt.show()"
   ]
  },
  {
   "cell_type": "markdown",
   "id": "e910270a",
   "metadata": {},
   "source": [
    "in these above graphs, we can see on average the amount of pollutants tends to increase periodically once every approximately 7 days, thic could be related to weekends, when the factories are perhaps closed. but I cant say that with compelete certainty"
   ]
  },
  {
   "cell_type": "markdown",
   "id": "ee7e7384",
   "metadata": {},
   "source": [
    "from the above observations i can conclude the following:-\n",
    "\n",
    "Conclusion 1: The data indicates a sort of zig-zag pattern in SO2 and NO2 levels, with peaks during the summer months, but these patterns are not very prominent.\n",
    "\n",
    "Conclusion 2: On average, pollutant levels tend to decrease approximately once every 7 days, possibly related to weekends when factories may be closed, or less cars on the roads.\n",
    "\n",
    "Conclusion 3: There seems to be an equal balance among most cities in terms of NO2 and SO2 levels.\n",
    "\n",
    "Conclusion 4: There is a positive correlation between the three pollutants, which makes sense as areas with high SO2 pollution are more likely to have NO2 as well.\n",
    "\n",
    "Conclusion 5: Rural and residential areas have lower levels of NO2 and SO2, forming a visible cluster. \n",
    "\n",
    "Given these conclusions, here's some approaches of analysis I'm intrested in:\n",
    "\n",
    "Time Series Analysis: to further investigate the zig-zag patterns and the weekly variations, Models like Prophet could help in understanding these patterns.\n",
    "\n",
    "Clustering models: as we've identified clusters in rural and residential areas, implement k-means or HDBSCAN clustering can help in understanding regional pollution trends.\n",
    "\n",
    "Regression and classification Models: models like logistic regression and random forest can help us in classifying the type of location."
   ]
  }
 ],
 "metadata": {
  "kernelspec": {
   "display_name": "Python 3 (ipykernel)",
   "language": "python",
   "name": "python3"
  },
  "language_info": {
   "codemirror_mode": {
    "name": "ipython",
    "version": 3
   },
   "file_extension": ".py",
   "mimetype": "text/x-python",
   "name": "python",
   "nbconvert_exporter": "python",
   "pygments_lexer": "ipython3",
   "version": "3.8.2"
  }
 },
 "nbformat": 4,
 "nbformat_minor": 5
}
