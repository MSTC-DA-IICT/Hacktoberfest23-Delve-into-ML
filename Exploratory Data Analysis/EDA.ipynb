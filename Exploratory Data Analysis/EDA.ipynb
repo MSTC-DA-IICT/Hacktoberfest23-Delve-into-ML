{
 "cells": [
  {
   "cell_type": "markdown",
   "id": "eb9e36d9",
   "metadata": {},
   "source": [
    "## Exploratory Data Analysis\n",
    "Exploratory Data Analysis is a crucial step in understanding our dataset and making informed decisions about feature engineering, model selection, and more.\n",
    "\n",
    "### Objective\n",
    "- Include creating Visualisations, provide as much graphs as possible, and also provide conclusions after each process.\n",
    "- Identify patterns among the data.\n",
    "- suggest what feature engineering can be done."
   ]
  }
 ],
 "metadata": {
  "kernelspec": {
   "display_name": "Python 3 (ipykernel)",
   "language": "python",
   "name": "python3"
  },
  "language_info": {
   "codemirror_mode": {
    "name": "ipython",
    "version": 3
   },
   "file_extension": ".py",
   "mimetype": "text/x-python",
   "name": "python",
   "nbconvert_exporter": "python",
   "pygments_lexer": "ipython3",
   "version": "3.8.2"
  }
 },
 "nbformat": 4,
 "nbformat_minor": 5
}
