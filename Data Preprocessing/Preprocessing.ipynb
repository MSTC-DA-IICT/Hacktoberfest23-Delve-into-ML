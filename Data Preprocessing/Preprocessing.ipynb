{
 "cells": [
  {
   "cell_type": "markdown",
   "id": "c7fd0846",
   "metadata": {},
   "source": [
    "## Data Preprocessing\n",
    "Data preprocessing is a critical step in the machine learning that often determines the success of a model. We are seeking to enhance our data preprocessing in our machine learning project.\n",
    "\n",
    "### Objective\n",
    "Give the numerical representation of the categorial data such that it can be used for Classification of whether the 'Type of Location' of the AQI data is 'Industrial Area' or 'Residential, Rural and other Areas'.\n",
    "\n",
    "### Tasks\n",
    "- Improve the data preprocessing workflow.\n",
    "- Data Cleaning & Transformation.\n",
    "- Feature Engineering\n",
    "- Encoding of categorial data, and also provide reason behind use of any particular encoding technique."
   ]
  }
 ],
 "metadata": {
  "kernelspec": {
   "display_name": "Python 3 (ipykernel)",
   "language": "python",
   "name": "python3"
  },
  "language_info": {
   "codemirror_mode": {
    "name": "ipython",
    "version": 3
   },
   "file_extension": ".py",
   "mimetype": "text/x-python",
   "name": "python",
   "nbconvert_exporter": "python",
   "pygments_lexer": "ipython3",
   "version": "3.8.2"
  }
 },
 "nbformat": 4,
 "nbformat_minor": 5
}
