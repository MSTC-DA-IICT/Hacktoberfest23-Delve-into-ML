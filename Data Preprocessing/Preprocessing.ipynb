{
 "cells": [
  {
   "cell_type": "markdown",
   "id": "c7fd0846",
   "metadata": {},
   "source": [
    "## Data Preprocessing\n",
    "Data preprocessing is a critical step in the machine learning that often determines the success of a model. We are seeking to enhance our data preprocessing in our machine learning project.\n",
    "\n",
    "### Objective\n",
    "Give the numerical representation of the categorial data such that it can be used for Classification of whether the 'Type of Location' of the AQI data is 'Industrial Area' or 'Residential, Rural and other Areas'.\n",
    "\n",
    "### Tasks\n",
    "- Improve the data preprocessing workflow.\n",
    "- Data Cleaning & Transformation.\n",
    "- Feature Engineering\n",
    "- Encoding of categorial data, and also provide reason behind use of any particular encoding technique."
   ]
  },
  {
   "cell_type": "code",
   "execution_count": null,
   "id": "c02227b8",
   "metadata": {},
   "outputs": [],
   "source": [
    "# importing basic libraries\n",
    "import numpy as np\n",
    "import pandas as pd"
   ]
  },
  {
   "cell_type": "code",
   "execution_count": null,
   "id": "9bea9373",
   "metadata": {},
   "outputs": [],
   "source": [
    "# importing the data set as a Dataframe\n",
    "df = pd.read_csv('gujarat_aqi.csv')"
   ]
  },
  {
   "cell_type": "code",
   "execution_count": null,
   "id": "95d92275",
   "metadata": {},
   "outputs": [],
   "source": [
    "# as every input in the column 'state' is just \"Gujarat\" , we are dropping it as it provides no relevant information\n",
    "df = df.drop(columns='State')"
   ]
  },
  {
   "cell_type": "code",
   "execution_count": null,
   "id": "55e1bd65",
   "metadata": {},
   "outputs": [],
   "source": [
    "# as every input in the column 'SPM' is just \"Nan\" , we are dropping it as it provides no relevant information\n",
    "df = df.drop(columns='SPM')"
   ]
  },
  {
   "cell_type": "code",
   "execution_count": null,
   "id": "8007f15a",
   "metadata": {},
   "outputs": [],
   "source": [
    "# since the 'Type of Location' column has only 2 types of values, we can encode them in binary as 1 and 0\n",
    "# this will be useful when we perform regression on this data\n",
    "\n",
    "df['Type of Location'] = df['Type of Location'].replace({'Industrial Area': 1, 'Residential, Rural and other Areas': 0})"
   ]
  },
  {
   "cell_type": "code",
   "execution_count": null,
   "id": "0bf07de1",
   "metadata": {},
   "outputs": [],
   "source": [
    "# since the readings will be same reguardless of what agency conducts it, the column 'Agency' would provide no new information to the model\n",
    "# thus ive decided to drop it\n",
    "df = df.drop(columns='Agency')"
   ]
  },
  {
   "cell_type": "code",
   "execution_count": null,
   "id": "2393649e",
   "metadata": {},
   "outputs": [],
   "source": [
    "# inorder to get a more indepth analasis of the data, I've split the date column into three columns, namely 'Day', 'Month', 'Year'\n",
    "df[['Day', 'Month', 'Year']] = df['Sampling Date'].str.split('/', expand=True)\n",
    "\n",
    "# Converting the columns to integers as they will be 'objects' by default and that slows down the computation a bit\n",
    "df['Day'] = df['Day'].astype(int)\n",
    "df['Month'] = df['Month'].astype(int)\n",
    "df['Year'] = df['Year'].astype(int)"
   ]
  },
  {
   "cell_type": "code",
   "execution_count": null,
   "id": "d7bb25b3",
   "metadata": {},
   "outputs": [],
   "source": [
    "# removing the sampling date column as the Day, Month and Year columns have already been made\n",
    "df = df.drop(columns='Sampling Date')"
   ]
  },
  {
   "cell_type": "code",
   "execution_count": null,
   "id": "85a37793",
   "metadata": {},
   "outputs": [],
   "source": [
    "# as there is missing data in some of the columns, I've used the simple imputer to fill in the missing data with the mean of their columns\n",
    "\n",
    "from sklearn.impute import SimpleImputer\n",
    "imputer = SimpleImputer(missing_values = np.nan, strategy = 'mean')\n",
    "imputer.fit(df.iloc[: ,2:5])\n",
    "df.iloc[: ,2:5] = imputer.transform(df.iloc[: ,2:5])"
   ]
  },
  {
   "cell_type": "code",
   "execution_count": null,
   "id": "8985bb13",
   "metadata": {},
   "outputs": [],
   "source": [
    "'''\n",
    "in order the categotical variable in the 'City/Town/Village/Area' column, ive decided to use one hot encoding to convert the city names to machine readable data\n",
    "one hot encoding is a techinque that turns a column of catagorical data into multiple columns of 1's and 0's where 1 indicates that it is of thar type and 0 indicates that it isnt\n",
    "i've chosen one hot encoding over just naming the columns as 1,2,3... as using integers like that may give our model a wrong idea about the data and may lead to reduced accuracy and false relationships between the data'''\n",
    "\n",
    "from sklearn.compose import ColumnTransformer\n",
    "from sklearn.preprocessing import OneHotEncoder\n",
    "ct = ColumnTransformer(transformers = [('encoder', OneHotEncoder(), [0])],  remainder='passthrough')\n",
    "df = ct.fit_transform(df)\n",
    "df = pd.DataFrame(df)"
   ]
  },
  {
   "cell_type": "code",
   "execution_count": null,
   "id": "9f6cf5c0",
   "metadata": {},
   "outputs": [],
   "source": [
    "# renaming our data back to the original names as the one hot encoding changed them for some reason, this could be done by a function, but since the list was small, I decided to do it manually\n",
    "df = df.rename(columns={7:'Type of location', 8: 'SO2', 9: 'NO2',10: 'RSPM/PM10',11: 'Day',12: 'Month', 13: 'Year'})"
   ]
  },
  {
   "cell_type": "code",
   "execution_count": null,
   "id": "ac8ec32f",
   "metadata": {},
   "outputs": [],
   "source": [
    "df = df.drop(columns='Year')"
   ]
  }
 ],
 "metadata": {
  "kernelspec": {
   "display_name": "Python 3 (ipykernel)",
   "language": "python",
   "name": "python3"
  },
  "language_info": {
   "codemirror_mode": {
    "name": "ipython",
    "version": 3
   },
   "file_extension": ".py",
   "mimetype": "text/x-python",
   "name": "python",
   "nbconvert_exporter": "python",
   "pygments_lexer": "ipython3",
   "version": "3.8.2"
  }
 },
 "nbformat": 4,
 "nbformat_minor": 5
}
