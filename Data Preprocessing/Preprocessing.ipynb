{
 "cells": [
  {
   "cell_type": "markdown",
   "id": "c7fd0846",
   "metadata": {},
   "source": [
    "## Data Preprocessing\n",
    "Data preprocessing is a critical step in the machine learning that often determines the success of a model. We are seeking to enhance our data preprocessing in our machine learning project.\n",
    "\n",
    "### Objective\n",
    "Give the numerical representation of the categorial data such that it can be used for Classification of whether the 'Type of Location' of the AQI data is 'Industrial Area' or 'Residential, Rural and other Areas'.\n",
    "\n",
    "### Tasks\n",
    "- Improve the data preprocessing workflow.\n",
    "- Data Cleaning & Transformation.\n",
    "- Feature Engineering\n",
    "- Encoding of categorial data, and also provide reason behind use of any particular encoding technique."
   ]
  },
  {
   "cell_type": "code",
   "execution_count": null,
   "id": "0718fa99",
   "metadata": {
    "vscode": {
     "languageId": "plaintext"
    }
   },
   "outputs": [],
   "source": [
    "#importing important libraries for Exploratory data analysis\n",
    "\n",
    "import pandas as pd\n",
    "import matplotlib.pyplot as plt\n",
    "import numpy as np\n",
    "import seaborn as sns\n",
    "import plotly.express as px"
   ]
  },
  {
   "cell_type": "code",
   "execution_count": null,
   "id": "9b570d93",
   "metadata": {
    "vscode": {
     "languageId": "plaintext"
    }
   },
   "outputs": [],
   "source": [
    "#reading data and saving the data as a pandas dataframe\n",
    "df = pd.read_csv('gujarat_aqi.csv')"
   ]
  },
  {
   "cell_type": "code",
   "execution_count": null,
   "id": "3741d613",
   "metadata": {
    "vscode": {
     "languageId": "plaintext"
    }
   },
   "outputs": [],
   "source": [
    "#printing basic information about data\n",
    "df.info()\n",
    "df.head()"
   ]
  },
  {
   "cell_type": "markdown",
   "id": "58eb9f5f",
   "metadata": {},
   "source": [
    "as we can notice here, there is some missing data in the NO2 and SO2 columns, so we will have to deal with that during data preprccsesing, for now i will remove those rows as 7 rows is statically insignificant."
   ]
  },
  {
   "cell_type": "code",
   "execution_count": null,
   "id": "4757948c",
   "metadata": {
    "vscode": {
     "languageId": "plaintext"
    }
   },
   "outputs": [],
   "source": [
    "df = df.dropna(subset=['NO2', 'SO2'])"
   ]
  },
  {
   "cell_type": "markdown",
   "id": "7b8ec79f",
   "metadata": {},
   "source": [
    "here we can see that this column as only one unique element inside it, that being 'Gujarat', this was obvious as the data is that of\n",
    "Gujarat. Well have to remove this coumn as this will serve no function in the model."
   ]
  },
  {
   "cell_type": "code",
   "execution_count": null,
   "id": "66cd6310",
   "metadata": {
    "vscode": {
     "languageId": "plaintext"
    }
   },
   "outputs": [],
   "source": [
    "unique_count = df['SPM'].nunique()\n",
    "print(unique_count)"
   ]
  },
  {
   "cell_type": "markdown",
   "id": "bac26e8d",
   "metadata": {},
   "source": [
    "the SPM coummn is also filled with all empty data, perhaps it wasnt avalaible, we will also have to remove this column."
   ]
  },
  {
   "cell_type": "code",
   "execution_count": null,
   "id": "7992610a",
   "metadata": {
    "vscode": {
     "languageId": "plaintext"
    }
   },
   "outputs": [],
   "source": [
    "df = df.drop(columns = 'SPM')\n",
    "df.info()"
   ]
  },
  {
   "cell_type": "code",
   "execution_count": null,
   "id": "8d6f6caa",
   "metadata": {
    "vscode": {
     "languageId": "plaintext"
    }
   },
   "outputs": [],
   "source": [
    "unique_count = df['Agency'].nunique()\n",
    "print(unique_count)"
   ]
  },
  {
   "cell_type": "markdown",
   "id": "a01aecd8",
   "metadata": {},
   "source": [
    "the 'Agency' column has 2 unique values, but if you think about it logicaly, the readings should be same reguardless of what agency counucts\n",
    "Thus, it makes no diffrence on what agency it is, as the data it provides should be equivalent, so we can remove this column too."
   ]
  },
  {
   "cell_type": "code",
   "execution_count": null,
   "id": "983c8815",
   "metadata": {
    "vscode": {
     "languageId": "plaintext"
    }
   },
   "outputs": [],
   "source": [
    "we can encode the City data in binary with one as Industrial area, and 0 as resedential or rural area.\n",
    "also to make data analysis easier and more indepth we can spit the date avalaible into days, month and year data."
   ]
  },
  {
   "cell_type": "code",
   "execution_count": null,
   "id": "7cdfc458",
   "metadata": {
    "vscode": {
     "languageId": "plaintext"
    }
   },
   "outputs": [],
   "source": [
    "sns.scatterplot(x='NO2',\n",
    "                y='SO2',\n",
    "                data=df.sample(n = 1935 , random_state = 0),\n",
    "                color = ['red' if x == 'Industrial Area' else 'blue' for x in df.sample(n = 1935 , random_state=0)['Type of Location']],\n",
    "                marker='o',\n",
    "                s = 20,\n",
    "                label='NO2 vs. SO2'\n",
    "                )\n",
    "plt.xlabel('NO2')\n",
    "plt.ylabel('SO2')\n",
    "plt.title('Scatter Plot: NO2 vs. SO2')\n",
    "plt.legend()\n",
    "plt.grid(True)\n",
    "plt.show()"
   ]
  },
  {
   "cell_type": "markdown",
   "id": "6781f66e",
   "metadata": {},
   "source": [
    "the conclusions derived from the following graph - here we cna clearly see that Rural and resential areas have lower levels of NO2 and SO2, both of which are gasses assosicated with pollution and chemical processes. with such data, clustering would be possible as they seem to form a visible cluster, which makes models like k-means and HDBSCAN clustering viable models for our project."
   ]
  },
  {
   "cell_type": "code",
   "execution_count": null,
   "id": "58d855aa",
   "metadata": {
    "vscode": {
     "languageId": "plaintext"
    }
   },
   "outputs": [],
   "source": [
    "sns.scatterplot(x='SO2', y='RSPM/PM10', data=df, color = ['red' if x == 'Industrial Area' else 'blue' for x in df.sample(n = 1935 , random_state=0)['Type of Location']], marker='o',s = 20, label='SO2 vs. RSPM/PM10')\n",
    "plt.xlabel('SO2')\n",
    "plt.ylabel('RSPM/PM10')\n",
    "plt.title('Scatter Plot: SO2 vs. RSPM/PM10')\n",
    "plt.legend()\n",
    "plt.grid(True)\n",
    "plt.show()\n",
    "\n",
    "sns.scatterplot(x='NO2', y='RSPM/PM10', data=df, color = ['red' if x == 'Industrial Area' else 'blue' for x in df.sample(n = 1935 , random_state=0)['Type of Location']], marker='o',s = 20, label='NO2 vs. RSPM/PM10')\n",
    "plt.xlabel('NO2')\n",
    "plt.ylabel('RSPM/PM10')\n",
    "plt.title('Scatter Plot: NO2 vs. RSPM/PM10')\n",
    "plt.legend()\n",
    "plt.grid(True)\n",
    "plt.show()\n",
    "\n",
    "\n",
    "selected_columns = ['SO2', 'NO2', 'RSPM/PM10']\n",
    "correlation_matrix = df[selected_columns].corr()\n",
    "\n",
    "plt.figure(figsize=(4, 3))\n",
    "sns.heatmap(correlation_matrix, annot=True, cmap='coolwarm', fmt=\".2f\", linewidths=0.5)\n",
    "plt.title(\"Correlation Matrix\")\n",
    "plt.show()"
   ]
  },
  {
   "cell_type": "markdown",
   "id": "2b1bbe92",
   "metadata": {},
   "source": [
    "the conclusions derived from the above two graphs is as follows - they show a positive co-relation between the three polutants, which makes sense as areas with high pollution of SO2 are also the most likely to have gasses like NO2 there. the corelation matrix also clearly shows us that there is a pretty strong co-relarion between the three polutants."
   ]
  },
  {
   "cell_type": "code",
   "execution_count": null,
   "id": "056c8d41",
   "metadata": {
    "vscode": {
     "languageId": "plaintext"
    }
   },
   "outputs": [],
   "source": [
    "custom_colors = {\n",
    "    'Ahmedabad': 'red',\n",
    "    'Ankleshwar': 'blue',\n",
    "    'Jamnagar': 'green',\n",
    "    'Rajkot': 'orange',\n",
    "    'Surat': 'purple',\n",
    "    'Vadodara': 'pink',\n",
    "    'Vapi': 'brown'\n",
    "}\n",
    "\n",
    "colors = [custom_colors[val] for val in df.sample(n=1000, random_state = 0)['City/Town/Village/Area']]\n",
    "\n",
    "sns.scatterplot(x='NO2',\n",
    "                y='SO2',\n",
    "                data=df.sample(n=1000, random_state = 0),\n",
    "                color = colors,\n",
    "                marker='o',\n",
    "                s = 15,\n",
    "                label='NO2 vs. SO2'\n",
    "                )\n",
    "plt.xlabel('NO2')\n",
    "plt.ylabel('SO2')\n",
    "plt.title('Scatter Plot: NO2 vs. SO2')\n",
    "plt.grid(True)\n",
    "plt.show()"
   ]
  },
  {
   "cell_type": "markdown",
   "id": "596f0690",
   "metadata": {},
   "source": [
    "the conclusions derived from the above graph is :- this graph shows the no2 and so2 levels from diffrent cities. that the data indicates that there is equal balance among most cities."
   ]
  },
  {
   "cell_type": "code",
   "execution_count": null,
   "id": "d01eb7e1",
   "metadata": {
    "vscode": {
     "languageId": "plaintext"
    }
   },
   "outputs": [],
   "source": [
    "# inorder to perform Time Series analysis, I've split the date column into three columns, namely 'Day', 'Month', 'Year'\n",
    "df[['Day', 'Month', 'Year']] = df['Sampling Date'].str.split('/', expand=True)\n",
    "\n",
    "# Converting the columns to integers as they will be 'objects' by default and that slows down the computation a bit\n",
    "df['Day'] = df['Day'].astype(int)\n",
    "df['Month'] = df['Month'].astype(int)\n",
    "df = df.drop(columns = 'Year')"
   ]
  },
  {
   "cell_type": "code",
   "execution_count": null,
   "id": "0437d88b",
   "metadata": {
    "vscode": {
     "languageId": "plaintext"
    }
   },
   "outputs": [],
   "source": [
    "sns.scatterplot(x='Month', y='RSPM/PM10', data=df, color='b', marker='o',s = 20, label='Month vs. RSPM/PM10')\n",
    "plt.xlabel('Month')\n",
    "plt.ylabel('RSPM/PM10')\n",
    "plt.title('Scatter Plot: Month vs. RSPM/PM10')\n",
    "plt.legend()\n",
    "plt.grid(True)\n",
    "plt.show()\n",
    "\n",
    "sns.scatterplot(x='Month', y='NO2', data=df, color='b', marker='o',s = 20, label='Month vs. NO2')\n",
    "plt.xlabel('Month')\n",
    "plt.ylabel('NO2')\n",
    "plt.title('Scatter Plot: Month vs. NO2')\n",
    "plt.legend()\n",
    "plt.grid(True)\n",
    "plt.show()\n",
    "\n",
    "sns.scatterplot(x='Month', y='SO2', data=df, color='b', marker='o',s = 20, label='Month vs. SO2')\n",
    "plt.xlabel('Month')\n",
    "plt.ylabel('SO2')\n",
    "plt.title('Scatter Plot: Month vs. SO2')\n",
    "plt.legend()\n",
    "plt.grid(True)\n",
    "plt.show()"
   ]
  },
  {
   "cell_type": "markdown",
   "id": "fb2d6df0",
   "metadata": {},
   "source": [
    "The following graphs show how the different pollutants change with different months, we can see a sort of zig-zag pattern with a high in SO2 and NO2 during the months of summer. However the patterns aren't very prominent soo its not possible to conclude anything with certainty"
   ]
  },
  {
   "cell_type": "code",
   "execution_count": null,
   "id": "ea642f36",
   "metadata": {
    "vscode": {
     "languageId": "plaintext"
    }
   },
   "outputs": [],
   "source": [
    "sns.scatterplot(x='Day', y='RSPM/PM10', data=df, color='b', marker='o',s = 20, label='days vs. RSPM/PM10')\n",
    "plt.xlabel('Day')\n",
    "plt.ylabel('RSPM/PM10')\n",
    "plt.title('Scatter Plot: Days vs. RSPM/PM10')\n",
    "plt.legend()\n",
    "plt.grid(True)\n",
    "plt.show()\n",
    "\n",
    "sns.scatterplot(x='Day', y='NO2', data=df, color='b', marker='o',s = 20, label='Days vs. NO2')\n",
    "plt.xlabel('Day')\n",
    "plt.ylabel('NO2')\n",
    "plt.title('Scatter Plot: Days vs. NO2')\n",
    "plt.legend()\n",
    "plt.grid(True)\n",
    "plt.show()\n",
    "\n",
    "sns.scatterplot(x='Day', y='SO2', data=df, color='b', marker='o',s = 20, label='Days vs. SO2')\n",
    "plt.xlabel('Day')\n",
    "plt.ylabel('SO2')\n",
    "plt.title('Scatter Plot: Days vs. SO2')\n",
    "plt.legend()\n",
    "plt.grid(True)\n",
    "plt.show()"
   ]
  },
  {
   "cell_type": "code",
   "execution_count": null,
   "id": "3e03352f",
   "metadata": {
    "vscode": {
     "languageId": "plaintext"
    }
   },
   "outputs": [],
   "source": [
    "fig_3d_scatter = px.scatter_3d(df.sample(n=500), x='NO2', y='SO2', z='RSPM/PM10', color='Day',\n",
    "                               size='Day', hover_name='City/Town/Village/Area',\n",
    "                               title='NO2 vs SO2 vs RSPM/PM10')\n",
    "fig_3d_scatter.show()"
   ]
  },
  {
   "cell_type": "markdown",
   "id": "fa59fbb7",
   "metadata": {},
   "source": [
    "in these above graphs, we can see on average the amount of pollutants tends to increase periodically once every approximately 7 days, thic could be related to weekends, when the factories are perhaps closed. but I cant say that with compelete certainty\n",
    "\n",
    "from the above observations i can conclude the following:-\n",
    "\n",
    "Conclusion 1: The data indicates a sort of zig-zag pattern in SO2 and NO2 levels, with peaks during the summer months, but these patterns are not very prominent.\n",
    "\n",
    "Conclusion 2: On average, pollutant levels tend to increase approximately once every 7 days, possibly related to weekends when factories may be closed.\n",
    "\n",
    "Conclusion 3: There seems to be an equal balance among most cities in terms of NO2 and SO2 levels.\n",
    "\n",
    "Conclusion 4: There is a positive correlation between the three pollutants, which makes sense as areas with high SO2 pollution are more likely to have NO2 as well.\n",
    "\n",
    "Conclusion 5: Rural and residential areas have lower levels of NO2 and SO2, forming a visible cluster. This suggests the potential for models like k-means and HDBSCAN to classify them as clusters.\n",
    "\n",
    "Given these conclusions, here's some approaches we could take:\n",
    "\n",
    "Time Series Analysis: to further investigate the zig-zag patterns and the weekly variations, Models like Prophet could help in understanding and forecasting these patterns.\n",
    "\n",
    "Clustering models: as we've identified clusters in rural and residential areas, implement k-means or HDBSCAN clustering can help in understanding regional pollution trends.\n",
    "\n",
    "Regression Models: models like logistic regression and random forest can help us in classifying the type of location."
   ]
  }
 ],
 "metadata": {
  "kernelspec": {
   "display_name": "Python 3 (ipykernel)",
   "language": "python",
   "name": "python3"
  },
  "language_info": {
   "codemirror_mode": {
    "name": "ipython",
    "version": 3
   },
   "file_extension": ".py",
   "mimetype": "text/x-python",
   "name": "python",
   "nbconvert_exporter": "python",
   "pygments_lexer": "ipython3",
   "version": "3.8.2"
  }
 },
 "nbformat": 4,
 "nbformat_minor": 5
}
